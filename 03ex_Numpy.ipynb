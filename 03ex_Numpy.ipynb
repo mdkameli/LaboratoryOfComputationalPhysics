{
 "cells": [
  {
   "cell_type": "markdown",
   "metadata": {},
   "source": [
    "### Numpy basics"
   ]
  },
  {
   "cell_type": "code",
   "execution_count": 3,
   "metadata": {},
   "outputs": [],
   "source": [
    "import numpy as np\n",
    "import numpy.random as npr\n",
    "import matplotlib.pyplot as plt"
   ]
  },
  {
   "cell_type": "markdown",
   "metadata": {},
   "source": [
    "1\\. Find the row, column and overall means for the following matrix:\n",
    "\n",
    "```python\n",
    "m = np.arange(12).reshape((3,4))\n",
    "```"
   ]
  },
  {
   "cell_type": "code",
   "execution_count": 4,
   "metadata": {},
   "outputs": [
    {
     "name": "stdout",
     "output_type": "stream",
     "text": [
      "[[ 0  1  2  3]\n",
      " [ 4  5  6  7]\n",
      " [ 8  9 10 11]]\n",
      "row mean =  [1.5 5.5 9.5]\n",
      "column mean =  [4. 5. 6. 7.]\n",
      "Overall mean =  5.5\n"
     ]
    }
   ],
   "source": [
    "# exercise 1\n",
    "m = np.arange(12).reshape((3,4))\n",
    "\n",
    "print (m)\n",
    "print('row mean = ', np.mean(m,1))\n",
    "print('column mean = ', np.mean(m,0))\n",
    "print('Overall mean = ', np.mean(m))"
   ]
  },
  {
   "cell_type": "markdown",
   "metadata": {},
   "source": [
    "2\\. Find the outer product of the following two vecotrs\n",
    "\n",
    "```python\n",
    "u = np.array([1,3,5,7])\n",
    "v = np.array([2,4,6,8])\n",
    "```\n",
    "\n",
    "Do this in the following ways:\n",
    "\n",
    "   * Using the function outer in numpy\n",
    "   * Using a nested for loop or list comprehension\n",
    "   * Using numpy broadcasting operatoins\n"
   ]
  },
  {
   "cell_type": "code",
   "execution_count": 11,
   "metadata": {},
   "outputs": [
    {
     "name": "stdout",
     "output_type": "stream",
     "text": [
      "Outer Product:\n",
      " [[ 2  4  6  8]\n",
      " [ 6 12 18 24]\n",
      " [10 20 30 40]\n",
      " [14 28 42 56]]\n",
      "\n",
      "For Loop Function:\n",
      " [[ 2.  4.  6.  8.]\n",
      " [ 6. 12. 18. 24.]\n",
      " [10. 20. 30. 40.]\n",
      " [14. 28. 42. 56.]]\n",
      "\n",
      "Numpy Broadcasting:\n",
      " [[ 2  4  6  8]\n",
      " [ 6 12 18 24]\n",
      " [10 20 30 40]\n",
      " [14 28 42 56]]\n"
     ]
    }
   ],
   "source": [
    "# exercise 2\n",
    "u = np.array([1,3,5,7])\n",
    "v = np.array([2,4,6,8])\n",
    "\n",
    "print('Outer Product:\\n',np.outer(u,v))\n",
    "\n",
    "\n",
    "out = np.zeros((4,4))\n",
    "for i in range(4):\n",
    "    for j in range(4):\n",
    "        out[i, j] = u[i] * v[j]\n",
    "print('\\nFor Loop Function:\\n',out)\n",
    "\n",
    "uT = u[:,np.newaxis]\n",
    "vT = v[np.newaxis,:]\n",
    "print('\\nNumpy Broadcasting:\\n',np.tile(uT,(1,4))*np.tile(vT,(4,1)))"
   ]
  },
  {
   "cell_type": "markdown",
   "metadata": {},
   "source": [
    "3\\. Create a 10 by 6 matrix of random uniform numbers. Set all rows with any entry less than 0.1 to be zero\n",
    "\n",
    "Hint: Use the following numpy functions - np.random.random, np.any as well as Boolean indexing and the axis argument."
   ]
  },
  {
   "cell_type": "code",
   "execution_count": 66,
   "metadata": {},
   "outputs": [
    {
     "name": "stdout",
     "output_type": "stream",
     "text": [
      "uniform: [[0.97938222 0.28642312 0.87824624 0.50958398 0.64685653 0.15405495]\n",
      " [0.88786533 0.06850124 0.09526258 0.21361907 0.281064   0.27580119]\n",
      " [0.1500321  0.06388074 0.82761592 0.28835273 0.81688544 0.16922154]\n",
      " [0.61613165 0.96710794 0.54277844 0.67074401 0.32320685 0.06341921]\n",
      " [0.03811321 0.78322923 0.00801059 0.64171282 0.52179482 0.30070691]\n",
      " [0.2687517  0.41190592 0.01524638 0.09973647 0.80476464 0.58431869]\n",
      " [0.58774281 0.14286856 0.57043115 0.0711331  0.70727661 0.71410548]\n",
      " [0.6677461  0.68810683 0.69396446 0.68201941 0.96950234 0.31582415]\n",
      " [0.18269655 0.16535798 0.83821716 0.15562548 0.63966935 0.47423132]\n",
      " [0.56590472 0.06994911 0.56270809 0.37406935 0.65150003 0.4126925 ]] \n",
      "\n",
      "True\n"
     ]
    }
   ],
   "source": [
    "a = npr.rand(10,6)\n",
    "print (\"uniform:\",a,'\\n')\n",
    "print(np.any(a,(1,0)))"
   ]
  },
  {
   "cell_type": "markdown",
   "metadata": {},
   "source": [
    "4\\. Use np.linspace to create an array of 100 numbers between 0 and 2π (includsive).\n",
    "\n",
    "  * Extract every 10th element using slice notation\n",
    "  * Reverse the array using slice notation\n",
    "  * Extract elements where the absolute difference between the sine and cosine functions evaluated at that element is less than 0.1\n",
    "  * Make a plot showing the sin and cos functions and indicate where they are close"
   ]
  },
  {
   "cell_type": "code",
   "execution_count": 97,
   "metadata": {},
   "outputs": [
    {
     "name": "stdout",
     "output_type": "stream",
     "text": [
      "\n",
      " [0.         0.06346652 0.12693304 0.19039955 0.25386607 0.31733259\n",
      " 0.38079911 0.44426563 0.50773215 0.57119866 0.63466518 0.6981317\n",
      " 0.76159822 0.82506474 0.88853126 0.95199777 1.01546429 1.07893081\n",
      " 1.14239733 1.20586385 1.26933037 1.33279688 1.3962634  1.45972992\n",
      " 1.52319644 1.58666296 1.65012947 1.71359599 1.77706251 1.84052903\n",
      " 1.90399555 1.96746207 2.03092858 2.0943951  2.15786162 2.22132814\n",
      " 2.28479466 2.34826118 2.41172769 2.47519421 2.53866073 2.60212725\n",
      " 2.66559377 2.72906028 2.7925268  2.85599332 2.91945984 2.98292636\n",
      " 3.04639288 3.10985939 3.17332591 3.23679243 3.30025895 3.36372547\n",
      " 3.42719199 3.4906585  3.55412502 3.61759154 3.68105806 3.74452458\n",
      " 3.8079911  3.87145761 3.93492413 3.99839065 4.06185717 4.12532369\n",
      " 4.1887902  4.25225672 4.31572324 4.37918976 4.44265628 4.5061228\n",
      " 4.56958931 4.63305583 4.69652235 4.75998887 4.82345539 4.88692191\n",
      " 4.95038842 5.01385494 5.07732146 5.14078798 5.2042545  5.26772102\n",
      " 5.33118753 5.39465405 5.45812057 5.52158709 5.58505361 5.64852012\n",
      " 5.71198664 5.77545316 5.83891968 5.9023862  5.96585272 6.02931923\n",
      " 6.09278575 6.15625227 6.21971879 6.28318531]\n",
      "\n",
      " [0.         0.63466518 1.26933037 1.90399555 2.53866073 3.17332591\n",
      " 3.8079911  4.44265628 5.07732146 5.71198664]\n",
      "\n",
      " [6.28318531 6.21971879 6.15625227 6.09278575 6.02931923 5.96585272\n",
      " 5.9023862  5.83891968 5.77545316 5.71198664 5.64852012 5.58505361\n",
      " 5.52158709 5.45812057 5.39465405 5.33118753 5.26772102 5.2042545\n",
      " 5.14078798 5.07732146 5.01385494 4.95038842 4.88692191 4.82345539\n",
      " 4.75998887 4.69652235 4.63305583 4.56958931 4.5061228  4.44265628\n",
      " 4.37918976 4.31572324 4.25225672 4.1887902  4.12532369 4.06185717\n",
      " 3.99839065 3.93492413 3.87145761 3.8079911  3.74452458 3.68105806\n",
      " 3.61759154 3.55412502 3.4906585  3.42719199 3.36372547 3.30025895\n",
      " 3.23679243 3.17332591 3.10985939 3.04639288 2.98292636 2.91945984\n",
      " 2.85599332 2.7925268  2.72906028 2.66559377 2.60212725 2.53866073\n",
      " 2.47519421 2.41172769 2.34826118 2.28479466 2.22132814 2.15786162\n",
      " 2.0943951  2.03092858 1.96746207 1.90399555 1.84052903 1.77706251\n",
      " 1.71359599 1.65012947 1.58666296 1.52319644 1.45972992 1.3962634\n",
      " 1.33279688 1.26933037 1.20586385 1.14239733 1.07893081 1.01546429\n",
      " 0.95199777 0.88853126 0.82506474 0.76159822 0.6981317  0.63466518\n",
      " 0.57119866 0.50773215 0.44426563 0.38079911 0.31733259 0.25386607\n",
      " 0.19039955 0.12693304 0.06346652 0.        ]\n",
      "\n",
      " [0.76159822 0.82506474 3.87145761 3.93492413]\n"
     ]
    },
    {
     "data": {
      "text/plain": [
       "[<matplotlib.lines.Line2D at 0xf534a91cf8>,\n",
       " <matplotlib.lines.Line2D at 0xf534a91e48>,\n",
       " <matplotlib.lines.Line2D at 0xf534a9b240>]"
      ]
     },
     "execution_count": 97,
     "metadata": {},
     "output_type": "execute_result"
    },
    {
     "data": {
      "image/png": "[encoded data removed]",
      "text/plain": [
       "<Figure size 432x288 with 1 Axes>"
      ]
     },
     "metadata": {
      "needs_background": "light"
     },
     "output_type": "display_data"
    }
   ],
   "source": [
    "# exercise 4 \n",
    "\n",
    "# PART a)\n",
    "a = np.linspace(0,2*np.pi,100)\n",
    "print('\\n',a)\n",
    "mask = np.arange(0,100,10)\n",
    "b = a[mask]\n",
    "print('\\n',b)\n",
    "\n",
    "\n",
    "# PART b)\n",
    "c = a[::-1]\n",
    "print('\\n',c)\n",
    "\n",
    "\n",
    "# PART c)\n",
    "mask2 = abs(np.sin(a)-np.cos(a))<0.1\n",
    "d = a[mask2]\n",
    "print('\\n',d)\n",
    "\n",
    "# PART d)\n",
    "import matplotlib.pyplot as plt\n",
    "%matplotlib inline \n",
    "\n",
    "e = np.sin(a)\n",
    "f = np.cos(a)\n",
    "g = np.sin(d)\n",
    "plt.plot(a,e,a,f,d,g,\"*\")\n",
    "#plt.plot(a,f)\n",
    "#plt.plot(d,g,\"*\")"
   ]
  },
  {
   "cell_type": "markdown",
   "metadata": {},
   "source": [
    "5\\. Create a matrix that shows the 10 by 10 multiplication table.\n",
    "\n",
    " * Find the trace of the matrix\n",
    " * Extract the anto-diagonal (this should be ```array([10, 18, 24, 28, 30, 30, 28, 24, 18, 10])```)\n",
    " * Extract the diagnoal offset by 1 upwards (this should be ```array([ 2,  6, 12, 20, 30, 42, 56, 72, 90])```)"
   ]
  },
  {
   "cell_type": "code",
   "execution_count": 118,
   "metadata": {},
   "outputs": [
    {
     "name": "stdout",
     "output_type": "stream",
     "text": [
      "[[  1   2   3   4   5   6   7   8   9  10]\n",
      " [  2   4   6   8  10  12  14  16  18  20]\n",
      " [  3   6   9  12  15  18  21  24  27  30]\n",
      " [  4   8  12  16  20  24  28  32  36  40]\n",
      " [  5  10  15  20  25  30  35  40  45  50]\n",
      " [  6  12  18  24  30  36  42  48  54  60]\n",
      " [  7  14  21  28  35  42  49  56  63  70]\n",
      " [  8  16  24  32  40  48  56  64  72  80]\n",
      " [  9  18  27  36  45  54  63  72  81  90]\n",
      " [ 10  20  30  40  50  60  70  80  90 100]]\n",
      "\n",
      "Trace of Matrix = 385\n",
      "\n",
      "Anti-Diagonal of Matrix = [10 18 24 28 30 30 28 24 18 10]\n",
      "\n",
      "j: \n",
      " [[ 0  0  0  0  0  0  0  0  0  0]\n",
      " [ 2  0  0  0  0  0  0  0  0  0]\n",
      " [ 3  6  0  0  0  0  0  0  0  0]\n",
      " [ 4  8 12  0  0  0  0  0  0  0]\n",
      " [ 5 10 15 20  0  0  0  0  0  0]\n",
      " [ 6 12 18 24 30  0  0  0  0  0]\n",
      " [ 7 14 21 28 35 42  0  0  0  0]\n",
      " [ 8 16 24 32 40 48 56  0  0  0]\n",
      " [ 9 18 27 36 45 54 63 72  0  0]\n",
      " [10 20 30 40 50 60 70 80 90  0]] \n",
      "\n",
      "\n",
      "transpose: \n",
      " [[ 0  2  3  4  5  6  7  8  9 10]\n",
      " [ 0  0  6  8 10 12 14 16 18 20]\n",
      " [ 0  0  0 12 15 18 21 24 27 30]\n",
      " [ 0  0  0  0 20 24 28 32 36 40]\n",
      " [ 0  0  0  0  0 30 35 40 45 50]\n",
      " [ 0  0  0  0  0  0 42 48 54 60]\n",
      " [ 0  0  0  0  0  0  0 56 63 70]\n",
      " [ 0  0  0  0  0  0  0  0 72 80]\n",
      " [ 0  0  0  0  0  0  0  0  0 90]\n",
      " [ 0  0  0  0  0  0  0  0  0  0]] \n",
      "\n"
     ]
    }
   ],
   "source": [
    "# exercise 5\n",
    "u = np.arange(1,11)\n",
    "uT = u[:,np.newaxis]\n",
    "vT = u[np.newaxis,:]\n",
    "h = np.tile(uT,(1,10))*np.tile(vT,(10,1))\n",
    "print(h)\n",
    "\n",
    "# PART a)\n",
    "trace = np.trace(h)\n",
    "print('\\n''Trace of Matrix =',trace)\n",
    "\n",
    "# PART b)\n",
    "i = np.diag(np.flipud(h))\n",
    "print('\\n''Anti-Diagonal of Matrix =',i)\n",
    "\n",
    "# PART c)\n",
    "j= np.tril(h, -1)\n",
    "#j= np.triu(h, -1)\n",
    "print(h.reshape())\n",
    "print ('\\n'\"j:\", '\\n', j , '\\n')\n",
    "print ('\\n'\"transpose:\", '\\n', j.T , '\\n') #a.T is a view!\n"
   ]
  },
  {
   "cell_type": "markdown",
   "metadata": {},
   "source": [
    "6\\. Use broadcasting to create a grid of distances\n",
    "\n",
    "Route 66 crosses the following cities in the US: Chicago, Springfield, Saint-Louis, Tulsa, Oklahoma City, Amarillo, Santa Fe, Albuquerque, Flagstaff, Los Angeles\n",
    "The corresponding positions in miles are: 0, 198, 303, 736, 871, 1175, 1475, 1544, 1913, 2448\n",
    "\n",
    "  * Construct a 2D grid of distances among each city along Route 66\n",
    "  * Convert that in km (those savages...)"
   ]
  },
  {
   "cell_type": "code",
   "execution_count": null,
   "metadata": {},
   "outputs": [],
   "source": [
    "# Exercise 6:\n"
   ]
  },
  {
   "cell_type": "markdown",
   "metadata": {},
   "source": [
    "7\\. Prime numbers sieve: compute the prime numbers in the 0-N (N=99 to start with) range with a sieve (mask).\n",
    "  * Constract a shape (100,) boolean array, the mask\n",
    "  * Identify the multiples of each number starting from 2 and set accordingly the corresponding mask element\n",
    "  * Apply the mask to obtain an array of ordered prime numbers\n",
    "  * Check the performances (timeit); how does it scale with N?\n",
    "  * Implement the optimization suggested in the [sieve of Eratosthenes](https://en.wikipedia.org/wiki/Sieve_of_Eratosthenes)"
   ]
  },
  {
   "cell_type": "markdown",
   "metadata": {},
   "source": [
    "8\\. Diffusion using random walk\n",
    "\n",
    "Consider a simple random walk process: at each step in time, a walker jumps right or left (+1 or -1) with equal probability. The goal is to find the typical distance from the origin of a random walker after a given amount of time. \n",
    "To do that, let's simulate many walkers and create a 2D array with each walker as a raw and the actual time evolution as columns\n",
    "\n",
    "  * Take 1000 walkers and let them walk for 200 steps\n",
    "  * Use randint to create a 2D array of size walkers x steps with values -1 or 1\n",
    "  * Build the actual walking distances for each walker (i.e. another 2D array \"summing on each raw\")\n",
    "  * Take the square of that 2D array (elementwise)\n",
    "  * Compute the mean of the squared distances at each step (i.e. the mean along the columns)\n",
    "  * Plot the average distances (sqrt(distance\\*\\*2)) as a function of time (step)\n",
    "  \n",
    "Did you get what you expected?\n",
    "\n",
    "##### Answer:\n",
    "In generl we expect that the walker backs to the beginning point!<br> But, be aware that in here we calculate the Square root of the distance for zero means values. We calsulate the std of the distribution which is 1; For the negative steps we only consider the square of that and then compute the mean which leads us to the increasing axis by continueing the steps, finally the behaviour of the output is the SQRT function behaviour as we expected."
   ]
  },
  {
   "cell_type": "code",
   "execution_count": 17,
   "metadata": {
    "scrolled": true
   },
   "outputs": [
    {
     "data": {
      "image/png": "[encoded data removed]",
      "text/plain": [
       "<Figure size 432x288 with 1 Axes>"
      ]
     },
     "metadata": {
      "needs_background": "light"
     },
     "output_type": "display_data"
    }
   ],
   "source": [
    "# Exercise 8:\n",
    "num_walkers = 1000\n",
    "num_step = 200\n",
    "\n",
    "# 2D array of size walkers x steps with values -1 or 1\n",
    "walkers_mat = npr.randint(-1,1,(num_walkers,num_step))\n",
    "walkers_mat[walkers_mat==0] = 1\n",
    "\n",
    "#Actual walking distances for each walker\n",
    "distance = walkers_mat.cumsum(axis=1)\n",
    "#print('\\nDistance Matrix:\\n',distance)\n",
    "\n",
    "#The square of that 2D array (elementwise)\n",
    "d2 = np.square(distance)\n",
    "#print('\\nSquare Root of distances:\\n',d2)\n",
    "\n",
    "#The mean of the squared distances at each step\n",
    "mean_square = d2.mean(axis=0)\n",
    "#print('\\nRoot Mean Square Vector:\\n',root_mean_square)\n",
    "\n",
    "#Plot the average distances\n",
    "time = np.linspace(1,num_step,200)\n",
    "root_mean_square = np.sqrt(mean_square)\n",
    "plt.plot(time,root_mean_square)\n",
    "plt.title(' Diffusion using random walk')\n",
    "plt.xlabel('Time (number of steps)')\n",
    "plt.ylabel('Average Distances')\n",
    "plt.grid()\n",
    "plt.show()\n"
   ]
  },
  {
   "cell_type": "markdown",
   "metadata": {},
   "source": [
    "9\\. Analyze a data file \n",
    "  * Download the population of hares, lynxes and carrots at the beginning of the last century.\n",
    "    ```python\n",
    "    ! wget https://www.dropbox.com/s/3vigxoqayo389uc/populations.txt\n",
    "    ```\n",
    "\n",
    "  * Check the content by looking within the file\n",
    "  * Load the data (use an appropriate numpy method) into a 2D array\n",
    "  * Create arrays out of the columns, the arrays being (in order): *year*, *hares*, *lynxes*, *carrots* \n",
    "  * Plot the 3 populations over the years\n",
    "  * Compute the main statistical properties of the dataset (mean, std, correlations, etc.)\n",
    "  * Which species has the highest population each year?\n",
    "\n",
    "Do you feel there is some evident correlation here? [Studies](https://www.enr.gov.nt.ca/en/services/lynx/lynx-snowshoe-hare-cycle) tend to believe so."
   ]
  },
  {
   "cell_type": "code",
   "execution_count": 85,
   "metadata": {},
   "outputs": [
    {
     "data": {
      "image/png": "[encoded data removed]",
      "text/plain": [
       "<Figure size 432x288 with 1 Axes>"
      ]
     },
     "metadata": {
      "needs_background": "light"
     },
     "output_type": "display_data"
    },
    {
     "name": "stdout",
     "output_type": "stream",
     "text": [
      "\n",
      "\n",
      "mean of hares:\n",
      " 34080.95238095238\n",
      "\n",
      "mean of lynxes:\n",
      " 20166.666666666668\n",
      "\n",
      "mean of carrots:\n",
      " 42400.0\n",
      "\n",
      "\n",
      "STD of hares:\n",
      " 20897.906458089667\n",
      "\n",
      "STD of lynxes:\n",
      " 16254.591536908763\n",
      "\n",
      "STD of carrots:\n",
      " 3322.5062255844787\n",
      "\n",
      "\n",
      " Correlation Coefficient:\n",
      " [[ 1.          0.07189206 -0.01660378]\n",
      " [ 0.07189206  1.         -0.68057717]\n",
      " [-0.01660378 -0.68057717  1.        ]]\n",
      "\n",
      "\n",
      "Correlation Coefficient Between hares and lynxes:\n",
      " [[1.         0.07189206]\n",
      " [0.07189206 1.        ]]\n",
      "\n",
      "Correlation Coefficient Between lynxes and carrots:\n",
      " [[ 1.         -0.68057717]\n",
      " [-0.68057717  1.        ]]\n",
      "\n",
      "Correlation Coefficient Between hares and carrots:\n",
      " [[ 1.         -0.01660378]\n",
      " [-0.01660378  1.        ]]\n"
     ]
    },
    {
     "data": {
      "image/png": "[encoded data removed]",
      "text/plain": [
       "<Figure size 432x288 with 1 Axes>"
      ]
     },
     "metadata": {
      "needs_background": "light"
     },
     "output_type": "display_data"
    },
    {
     "name": "stdout",
     "output_type": "stream",
     "text": [
      "\n",
      "The highest population of Lynxes:\n",
      " [1904. 1905. 1906. 1915. 1916. 1917.]\n",
      "\n",
      "The highest population of Hares:\n",
      " [1900. 1901. 1902. 1903. 1907. 1908. 1909. 1910. 1911. 1912. 1913. 1914.\n",
      " 1918. 1919. 1920.]\n"
     ]
    }
   ],
   "source": [
    "#Load the data \n",
    "population = np.loadtxt('populations.txt')\n",
    "years = population[:,0]\n",
    "hares = population[:,1]\n",
    "lynxes = population[:,2]\n",
    "carrots = population[:,3]\n",
    "\n",
    "#Plot the 3 populations over the years\n",
    "plt.plot(years,hares,years,lynxes,years,carrots)\n",
    "labels = ['hares', 'lynxes', 'carrots']\n",
    "plt.xlabel('Years')\n",
    "plt.ylabel('Measurment')\n",
    "year = np.linspace(np.min(years),np.max(years),5)\n",
    "plt.xticks(year)\n",
    "plt.legend(labels)\n",
    "plt.grid()\n",
    "plt.title('Population')\n",
    "plt.show()\n",
    "\n",
    "#Compute the main statistical properties of the dataset\n",
    "## MEAN\n",
    "mean_hares = np.mean(hares)\n",
    "print('\\n\\nmean of hares:\\n',mean_hares)\n",
    "mean_lynxes = np.mean(lynxes)\n",
    "print('\\nmean of lynxes:\\n',mean_lynxes)\n",
    "mean_carrots = np.mean(carrots)\n",
    "print('\\nmean of carrots:\\n',mean_carrots)\n",
    "\n",
    "## STD\n",
    "std_hares = np.std(hares)\n",
    "print('\\n\\nSTD of hares:\\n',std_hares)\n",
    "std_lynxes = np.std(lynxes)\n",
    "print('\\nSTD of lynxes:\\n',std_lynxes)\n",
    "std_carrots = np.std(carrots)\n",
    "print('\\nSTD of carrots:\\n',std_carrots)\n",
    "\n",
    "\n",
    "## Correlation\n",
    "correlation = np.corrcoef(population[:,1:],rowvar = False)\n",
    "print('\\n\\n Correlation Coefficient:\\n',correlation)\n",
    "hares_corr_lynxes = np.corrcoef(hares,lynxes)\n",
    "print('\\n\\nCorrelation Coefficient Between hares and lynxes:\\n',hares_corr_lynxes)\n",
    "lynxes_corr_carrots = np.corrcoef(carrots,lynxes)\n",
    "print('\\nCorrelation Coefficient Between lynxes and carrots:\\n',lynxes_corr_carrots)\n",
    "hares_corr_carrots = np.corrcoef(carrots,hares)\n",
    "print('\\nCorrelation Coefficient Between hares and carrots:\\n',hares_corr_carrots)\n",
    "\n",
    "## Which species has the highest population each year?\n",
    "high_population = np.amax(population[:,1:3],axis =1)\n",
    "plt.plot(years,high_population)\n",
    "plt.xlabel('Years')\n",
    "plt.ylabel('Measurment')\n",
    "year = np.linspace(np.min(years),np.max(years),5)\n",
    "plt.xticks(year)\n",
    "plt.grid()\n",
    "plt.title('Highest Population')\n",
    "plt.show()\n",
    "\n",
    "\n",
    "lynxes_max = np.argmax(population[:,1:3],axis=1).astype('bool')\n",
    "high_population_lynxes = years[lynxes_max]\n",
    "print('\\nThe highest population of Lynxes:\\n',high_population_lynxes)\n",
    "\n",
    "hares_max = np.argmin(population[:,1:3],axis=1).astype('bool')\n",
    "high_population_hares = years[hares_max]\n",
    "print('\\nThe highest population of Hares:\\n',high_population_hares)\n",
    "\n",
    "\n"
   ]
  },
  {
   "cell_type": "code",
   "execution_count": null,
   "metadata": {},
   "outputs": [],
   "source": []
  }
 ],
 "metadata": {
  "kernelspec": {
   "display_name": "Python 3",
   "language": "python",
   "name": "python3"
  },
  "language_info": {
   "codemirror_mode": {
    "name": "ipython",
    "version": 3
   },
   "file_extension": ".py",
   "mimetype": "text/x-python",
   "name": "python",
   "nbconvert_exporter": "python",
   "pygments_lexer": "ipython3",
   "version": "3.7.1"
  }
 },
 "nbformat": 4,
 "nbformat_minor": 2
}
